{
 "cells": [
  {
   "cell_type": "code",
   "execution_count": null,
   "metadata": {
    "colab": {
     "base_uri": "https://localhost:8080/",
     "height": 35
    },
    "colab_type": "code",
    "id": "0tTG2vygpBOw",
    "outputId": "483793c7-a6fe-4d30-c333-d67dbdf5d476"
   },
   "outputs": [
    {
     "name": "stdout",
     "output_type": "stream",
     "text": [
      "Drive already mounted at /content/drive; to attempt to forcibly remount, call drive.mount(\"/content/drive\", force_remount=True).\n"
     ]
    }
   ],
   "source": [
    "#Applicable only if you are building it on Google Drive\n",
    "from google.colab import drive\n",
    "drive.mount('/content/drive')"
   ]
  },
  {
   "cell_type": "code",
   "execution_count": null,
   "metadata": {
    "colab": {
     "base_uri": "https://localhost:8080/",
     "height": 501
    },
    "colab_type": "code",
    "id": "QuD7lkweo9Di",
    "outputId": "c91e85c5-81af-45c0-e254-270a520af150"
   },
   "outputs": [
    {
     "name": "stdout",
     "output_type": "stream",
     "text": [
      "Fri May 22 12:50:12 2020       \n",
      "+-----------------------------------------------------------------------------+\n",
      "| NVIDIA-SMI 440.82       Driver Version: 418.67       CUDA Version: 10.1     |\n",
      "|-------------------------------+----------------------+----------------------+\n",
      "| GPU  Name        Persistence-M| Bus-Id        Disp.A | Volatile Uncorr. ECC |\n",
      "| Fan  Temp  Perf  Pwr:Usage/Cap|         Memory-Usage | GPU-Util  Compute M. |\n",
      "|===============================+======================+======================|\n",
      "|   0  Tesla P100-PCIE...  Off  | 00000000:00:04.0 Off |                    0 |\n",
      "| N/A   45C    P0    27W / 250W |      0MiB / 16280MiB |      0%      Default |\n",
      "+-------------------------------+----------------------+----------------------+\n",
      "                                                                               \n",
      "+-----------------------------------------------------------------------------+\n",
      "| Processes:                                                       GPU Memory |\n",
      "|  GPU       PID   Type   Process name                             Usage      |\n",
      "|=============================================================================|\n",
      "|  No running processes found                                                 |\n",
      "+-----------------------------------------------------------------------------+\n",
      "/content/drive/My Drive/comp4211Proj/omniglot/python\n",
      "demo.py\t\t\t      siameseNet-dropout.pt\n",
      "images_background\t      siameseNet-lr006.pt\n",
      "images_background_small1.zip  siameseNet.pt\n",
      "images_background_small2.zip  siameseNet-test2.pt\n",
      "images_background.zip\t      siameseNet-test.pt\n",
      "images_evaluation\t      siameseNet-vgg16.pt\n",
      "images_evaluation.zip\t      strokes_background_small1.zip\n",
      "one-shot-classification       strokes_background_small2.zip\n",
      "siameseNet-batchnorm50.pt     strokes_background.zip\n",
      "siameseNet-batchnorm.pt       strokes_evaluation.zip\n"
     ]
    }
   ],
   "source": [
    "!nvidia-smi\n",
    "%cd /content/drive/My Drive/comp4211Proj/omniglot/python\n",
    "!ls"
   ]
  },
  {
   "cell_type": "code",
   "execution_count": null,
   "metadata": {
    "colab": {},
    "colab_type": "code",
    "id": "0UL7xKBso8Pm"
   },
   "outputs": [],
   "source": [
    "from os import walk\n",
    "import torch\n",
    "import torchvision\n",
    "import torchvision.transforms as transforms\n",
    "import matplotlib.pyplot as plt\n",
    "import os\n",
    "from PIL import Image\n",
    "import cv2\n",
    "from torchsummary import summary\n",
    "from torch.utils.data import Dataset, DataLoader, random_split\n",
    "import pandas as pd\n",
    "import numpy as np\n",
    "import random"
   ]
  },
  {
   "cell_type": "code",
   "execution_count": null,
   "metadata": {
    "colab": {},
    "colab_type": "code",
    "id": "vY_FtijPo8Pt"
   },
   "outputs": [],
   "source": [
    "# setting the root directories and categories of the images\n",
    "# root_dir = './images_background/'\n",
    "root_dir = './images_evaluation/'\n",
    "categories = [[folder, os.listdir(root_dir + folder)] for folder in os.listdir(root_dir)  if not folder.startswith('.') ]"
   ]
  },
  {
   "cell_type": "code",
   "execution_count": null,
   "metadata": {
    "colab": {},
    "colab_type": "code",
    "id": "khIHVwcLo8Px"
   },
   "outputs": [],
   "source": [
    "# creating the pairs of images for inputs, same character label = 1, vice versa\n",
    "class OmniglotDataset(Dataset):\n",
    "    def __init__(self, categories, root_dir, setSize, transform=None):\n",
    "        self.categories = categories\n",
    "        self.root_dir = root_dir\n",
    "        self.transform = transform\n",
    "        self.setSize = setSize\n",
    "    def __len__(self):\n",
    "        return self.setSize\n",
    "    def __getitem__(self, idx):\n",
    "        img1 = None\n",
    "        img2 = None\n",
    "        label = None\n",
    "        if idx % 2 == 0: # select the same character for both images\n",
    "            category = random.choice(categories)\n",
    "            character = random.choice(category[1])\n",
    "            imgDir = root_dir + category[0] + '/' + character\n",
    "            img1Name = random.choice(os.listdir(imgDir))\n",
    "            img2Name = random.choice(os.listdir(imgDir))\n",
    "            img1 = Image.open(imgDir + '/' + img1Name)\n",
    "            img2 = Image.open(imgDir + '/' + img2Name)\n",
    "            # print(imgDir+'/'+img1Name)\n",
    "            # print(imgDir+'/'+img2Name)\n",
    "            label = 1.0\n",
    "        else: # select a different character for both images\n",
    "            category1, category2 = random.choice(categories), random.choice(categories)\n",
    "            category1, category2 = random.choice(categories), random.choice(categories)\n",
    "            character1, character2 = random.choice(category1[1]), random.choice(category2[1])\n",
    "            imgDir1, imgDir2 = root_dir + category1[0] + '/' + character1, root_dir + category2[0] + '/' + character2\n",
    "            img1Name = random.choice(os.listdir(imgDir1))\n",
    "            img2Name = random.choice(os.listdir(imgDir2))\n",
    "            while img1Name == img2Name:\n",
    "                img2Name = random.choice(os.listdir(imgDir2))\n",
    "            label = 0.0\n",
    "            img1 = Image.open(imgDir1 + '/' + img1Name)\n",
    "            img2 = Image.open(imgDir2 + '/' + img2Name)\n",
    "#         plt.imshow(img1)\n",
    "        if self.transform:\n",
    "            img1 = self.transform(img1)\n",
    "            img2 = self.transform(img2)\n",
    "        return img1, img2, torch.from_numpy(np.array([label], dtype=np.float32))          \n"
   ]
  },
  {
   "cell_type": "code",
   "execution_count": null,
   "metadata": {
    "colab": {},
    "colab_type": "code",
    "id": "fMqRspJ9UEbW"
   },
   "outputs": [],
   "source": [
    "# creates n-way one shot learning evaluation\n",
    "class NWayOneShotEvalSet(Dataset):\n",
    "    def __init__(self, categories, root_dir, setSize, numWay, transform=None):\n",
    "        self.categories = categories\n",
    "        self.root_dir = root_dir\n",
    "        self.setSize = setSize\n",
    "        self.numWay = numWay\n",
    "        self.transform = transform\n",
    "    def __len__(self):\n",
    "        return self.setSize\n",
    "    def __getitem__(self, idx):\n",
    "        # find one main image\n",
    "        category = random.choice(categories)\n",
    "        character = random.choice(category[1])\n",
    "        imgDir = root_dir + category[0] + '/' + character\n",
    "        imgName = random.choice(os.listdir(imgDir))\n",
    "        mainImg = Image.open(imgDir + '/' + imgName)\n",
    "        # print(imgDir + '/' + imgName)\n",
    "        if self.transform:\n",
    "            mainImg = self.transform(mainImg)\n",
    "        \n",
    "        # find n numbers of distinct images, 1 in the same set as the main\n",
    "        testSet = []\n",
    "        label = np.random.randint(self.numWay)\n",
    "        for i in range(self.numWay):\n",
    "            testImgDir = imgDir\n",
    "            testImgName = ''\n",
    "            if i == label:\n",
    "                testImgName = random.choice(os.listdir(imgDir))\n",
    "            else:\n",
    "                testCategory = random.choice(categories)\n",
    "                testCharacter = random.choice(testCategory[1])\n",
    "                testImgDir = root_dir + testCategory[0] + '/' + testCharacter\n",
    "                while testImgDir == imgDir:\n",
    "                    testImgDir = root_dir + testCategory[0] + '/' + testCharacter\n",
    "                testImgName = random.choice(os.listdir(testImgDir))\n",
    "            testImg = Image.open(testImgDir + '/' + testImgName)\n",
    "            if self.transform:\n",
    "                testImg = self.transform(testImg)\n",
    "            testSet.append(testImg)\n",
    "        # plt.imshow()\n",
    "        return mainImg, testSet, torch.from_numpy(np.array([label], dtype = int))"
   ]
  },
  {
   "cell_type": "code",
   "execution_count": null,
   "metadata": {
    "colab": {},
    "colab_type": "code",
    "id": "fxY8faBco8P0"
   },
   "outputs": [],
   "source": [
    "# choose a training dataset size and further divide it into train and validation set 80:20\n",
    "dataSize = 10000 # self-defined dataset size\n",
    "TRAIN_PCT = 0.8 # percentage of entire dataset for training\n",
    "train_size = int(dataSize * TRAIN_PCT)\n",
    "val_size = dataSize - train_size\n",
    "\n",
    "transformations = transforms.Compose(\n",
    "    [transforms.ToTensor()]) \n",
    "\n",
    "omniglotDataset = OmniglotDataset(categories, root_dir, dataSize, transformations)\n",
    "train_set, val_set = random_split(omniglotDataset, [train_size, val_size])\n",
    "train_loader = torch.utils.data.DataLoader(train_set, batch_size=128, num_workers=16)\n",
    "val_loader = torch.utils.data.DataLoader(val_set, batch_size=1, num_workers=16, shuffle=True)"
   ]
  },
  {
   "cell_type": "code",
   "execution_count": null,
   "metadata": {
    "colab": {},
    "colab_type": "code",
    "id": "2LYX5Fk-mp5b"
   },
   "outputs": [],
   "source": [
    "# create the test set for final testing\n",
    "testSize = 5000 \n",
    "numWay = 20\n",
    "test_set = NWayOneShotEvalSet(categories, root_dir, testSize, numWay, transformations)\n",
    "test_loader = torch.utils.data.DataLoader(test_set, batch_size = 1, num_workers = 2, shuffle=True)"
   ]
  },
  {
   "cell_type": "code",
   "execution_count": null,
   "metadata": {
    "colab": {
     "base_uri": "https://localhost:8080/",
     "height": 568
    },
    "colab_type": "code",
    "id": "9ymZBJfVo8P5",
    "outputId": "785b1c17-7c8f-4ee2-b898-7f146b390833"
   },
   "outputs": [
    {
     "name": "stdout",
     "output_type": "stream",
     "text": [
      "tensor([[[1., 1., 1.,  ..., 1., 1., 1.],\n",
      "         [1., 1., 1.,  ..., 1., 1., 1.],\n",
      "         [1., 1., 1.,  ..., 1., 1., 1.],\n",
      "         ...,\n",
      "         [1., 1., 1.,  ..., 1., 1., 1.],\n",
      "         [1., 1., 1.,  ..., 1., 1., 1.],\n",
      "         [1., 1., 1.,  ..., 1., 1., 1.]]])\n"
     ]
    },
    {
     "name": "stderr",
     "output_type": "stream",
     "text": [
      "Exception ignored in: <bound method _MultiProcessingDataLoaderIter.__del__ of <torch.utils.data.dataloader._MultiProcessingDataLoaderIter object at 0x7fa8a6f72240>>\n",
      "Traceback (most recent call last):\n",
      "  File \"/usr/local/lib/python3.6/dist-packages/torch/utils/data/dataloader.py\", line 962, in __del__\n",
      "    self._shutdown_workers()\n",
      "  File \"/usr/local/lib/python3.6/dist-packages/torch/utils/data/dataloader.py\", line 942, in _shutdown_workers\n",
      "    w.join()\n",
      "  File \"/usr/lib/python3.6/multiprocessing/process.py\", line 124, in join\n",
      "    res = self._popen.wait(timeout)\n",
      "  File \"/usr/lib/python3.6/multiprocessing/popen_fork.py\", line 50, in wait\n",
      "    return self.poll(os.WNOHANG if timeout == 0.0 else 0)\n",
      "  File \"/usr/lib/python3.6/multiprocessing/popen_fork.py\", line 28, in poll\n",
      "    pid, sts = os.waitpid(self.pid, flag)\n",
      "KeyboardInterrupt: \n"
     ]
    },
    {
     "data": {
      "image/png": "[encoded data removed]",
      "text/plain": [
       "<Figure size 432x288 with 2 Axes>"
      ]
     },
     "metadata": {
      "needs_background": "light",
      "tags": []
     },
     "output_type": "display_data"
    }
   ],
   "source": [
    "# showing a sample input of a training set\n",
    "count0 = 0\n",
    "count1 = 0\n",
    "for img1, img2, label in train_loader:\n",
    "    print()\n",
    "    if label[0] == 1.0:\n",
    "        print(img1[0])\n",
    "        plt.subplot(1,2,1)\n",
    "        plt.imshow(img1[0][0])\n",
    "        plt.subplot(1,2,2)\n",
    "        plt.imshow(img2[0][0])\n",
    "        # print(label)\n",
    "        break\n",
    "    # break"
   ]
  },
  {
   "cell_type": "code",
   "execution_count": null,
   "metadata": {
    "colab": {
     "base_uri": "https://localhost:8080/",
     "height": 379
    },
    "colab_type": "code",
    "id": "Q9Dagxfc-geN",
    "outputId": "3bb3883a-2caf-4d77-a305-61d4885970f6"
   },
   "outputs": [],
   "source": [
    "# showing a sample input of the testing set\n",
    "count = 0\n",
    "for mainImg, imgset, label in test_loader:\n",
    "    # print(len(imgset))\n",
    "    # print(label)\n",
    "    # print(imgset.shape)\n",
    "    if label != 1:\n",
    "        for count, img in enumerate(imgset):\n",
    "          plt.subplot(1, len(imgset)+1, count+1)\n",
    "          plt.imshow(img[0][0])\n",
    "          # print(img.shape)\n",
    "        print(mainImg.shape)\n",
    "        plt.subplot(1, len(imgset)+1, len(imgset)+1)\n",
    "        plt.imshow(mainImg[0][0])\n",
    "        count += 1\n",
    "        break\n",
    "    # break"
   ]
  },
  {
   "cell_type": "code",
   "execution_count": null,
   "metadata": {
    "colab": {},
    "colab_type": "code",
    "id": "MuoDdu_Ao8P3"
   },
   "outputs": [],
   "source": [
    "import torch.nn as nn\n",
    "import torch.nn.functional as F"
   ]
  },
  {
   "cell_type": "code",
   "execution_count": null,
   "metadata": {
    "colab": {},
    "colab_type": "code",
    "id": "BPdWGiEeo8P9"
   },
   "outputs": [],
   "source": [
    "#Different network structures, the commented out are the different experimenting structures\n",
    "class Net(nn.Module):\n",
    "    def __init__(self):\n",
    "        super(Net, self).__init__()\n",
    "        \n",
    "        # Koch et al.\n",
    "        # Conv2d(input_channels, output_channels, kernel_size)\n",
    "        self.conv1 = nn.Conv2d(1, 64, 10) \n",
    "        self.conv2 = nn.Conv2d(64, 128, 7)  \n",
    "        self.conv3 = nn.Conv2d(128, 128, 4)\n",
    "        self.conv4 = nn.Conv2d(128, 256, 4)\n",
    "        self.bn1 = nn.BatchNorm2d(64)\n",
    "        self.bn2 = nn.BatchNorm2d(128)\n",
    "        self.bn3 = nn.BatchNorm2d(128)\n",
    "        self.bn4 = nn.BatchNorm2d(256)\n",
    "        self.dropout1 = nn.Dropout(0.1)\n",
    "        self.dropout2 = nn.Dropout(0.5)\n",
    "        self.fc1 = nn.Linear(256 * 6 * 6, 4096)\n",
    "        self.fcOut = nn.Linear(4096, 1)\n",
    "        self.sigmoid = nn.Sigmoid()\n",
    "\n",
    "        # VGG16\n",
    "        # # dataiter = iter(train_loader)\n",
    "        # # img1, img2, label = dataiter.next()\n",
    "        # # print(img1.shape)\n",
    "        # self.conv11 = nn.Conv2d(1, 64, 3) \n",
    "        # self.conv12 = nn.Conv2d(64, 64, 3)  \n",
    "        # self.conv21 = nn.Conv2d(64, 128, 3)\n",
    "        # self.conv22 = nn.Conv2d(128, 128, 3)\n",
    "        # self.conv31 = nn.Conv2d(128, 256, 3) \n",
    "        # self.conv32 = nn.Conv2d(256, 256, 3)  \n",
    "        # self.conv33 = nn.Conv2d(256, 256, 3)\n",
    "        # self.pool = nn.MaxPool2d(2, 2)\n",
    "        # self.fc1 = nn.Linear(256 * 8 * 8, 4096)\n",
    "        # self.fc2 = nn.Linear(4096, 4096)\n",
    "        # self.fcOut = nn.Linear(4096, 1)\n",
    "        # self.sigmoid = nn.Sigmoid()\n",
    "        # # x = self.conv11(img1)\n",
    "        # # x = self.conv12(x)\n",
    "        # # x = self.pool(x)\n",
    "        # # x = self.conv21(x)\n",
    "        # # x = self.conv22(x)\n",
    "        # # x = self.pool(x)\n",
    "        # # x = self.conv31(x)\n",
    "        # # x = self.conv32(x)\n",
    "        # # x = self.conv33(x)\n",
    "        # # x = self.pool(x)\n",
    "        # # print(x.shape)\n",
    "    \n",
    "    def convs(self, x):\n",
    "\n",
    "        # Koch et al.\n",
    "        # out_dim = in_dim - kernel_size + 1  \n",
    "        #1, 105, 105\n",
    "        x = F.relu(self.bn1(self.conv1(x)))\n",
    "        # 64, 96, 96\n",
    "        x = F.max_pool2d(x, (2,2))\n",
    "        # 64, 48, 48\n",
    "        x = F.relu(self.bn2(self.conv2(x)))\n",
    "        # 128, 42, 42\n",
    "        x = F.max_pool2d(x, (2,2))\n",
    "        # 128, 21, 21\n",
    "        x = F.relu(self.bn3(self.conv3(x)))\n",
    "        # 128, 18, 18\n",
    "        x = F.max_pool2d(x, (2,2))\n",
    "        # 128, 9, 9\n",
    "        x = F.relu(self.bn4(self.conv4(x)))\n",
    "        # 256, 6, 6\n",
    "        return x\n",
    "\n",
    "        # VGG16\n",
    "        # x = F.relu(self.conv11(x))\n",
    "        # x = F.relu(self.conv12(x))\n",
    "        # x = F.max_pool2d(x, (2,2))\n",
    "        # x = F.relu(self.conv21(x))\n",
    "        # x = F.relu(self.conv22(x))\n",
    "        # x = F.max_pool2d(x, (2,2))\n",
    "        # x = F.relu(self.conv31(x))\n",
    "        # x = F.relu(self.conv32(x))\n",
    "        # x = F.relu(self.conv33(x))\n",
    "        # x = F.max_pool2d(x, (2,2))\n",
    "        # return x\n",
    "\n",
    "    def forward(self, x1, x2):\n",
    "        x1 = self.convs(x1)\n",
    "\n",
    "        # Koch et al.\n",
    "        x1 = x1.view(-1, 256 * 6 * 6)\n",
    "        x1 = self.sigmoid(self.fc1(x1))\n",
    "\n",
    "        # VGG16\n",
    "        # x1 = x1.view(-1, 256 * 8 * 8)\n",
    "        # x1 = self.fc1(x1)\n",
    "        # x1 = self.sigmoid(self.fc2(x1))\n",
    "        \n",
    "        x2 = self.convs(x2)\n",
    "\n",
    "        # Koch et al.\n",
    "        x2 = x2.view(-1, 256 * 6 * 6)\n",
    "        x2 = self.sigmoid(self.fc1(x2))\n",
    "\n",
    "        # VGG16\n",
    "        # x2 = x2.view(-1, 256 * 8 * 8)\n",
    "        # x2 = self.fc1(x2)\n",
    "        # x2 = self.sigmoid(self.fc2(x2))\n",
    "\n",
    "        x = torch.abs(x1 - x2)\n",
    "        x = self.fcOut(x)\n",
    "        return x"
   ]
  },
  {
   "cell_type": "code",
   "execution_count": null,
   "metadata": {
    "colab": {
     "base_uri": "https://localhost:8080/",
     "height": 345
    },
    "colab_type": "code",
    "id": "YNc_GPvDo8QA",
    "outputId": "f95be039-00f1-4d66-dc4d-77e4ba315066"
   },
   "outputs": [
    {
     "name": "stdout",
     "output_type": "stream",
     "text": [
      "The model architecture:\n",
      "\n",
      " Net(\n",
      "  (conv1): Conv2d(1, 64, kernel_size=(10, 10), stride=(1, 1))\n",
      "  (conv2): Conv2d(64, 128, kernel_size=(7, 7), stride=(1, 1))\n",
      "  (conv3): Conv2d(128, 128, kernel_size=(4, 4), stride=(1, 1))\n",
      "  (conv4): Conv2d(128, 256, kernel_size=(4, 4), stride=(1, 1))\n",
      "  (bn1): BatchNorm2d(64, eps=1e-05, momentum=0.1, affine=True, track_running_stats=True)\n",
      "  (bn2): BatchNorm2d(128, eps=1e-05, momentum=0.1, affine=True, track_running_stats=True)\n",
      "  (bn3): BatchNorm2d(128, eps=1e-05, momentum=0.1, affine=True, track_running_stats=True)\n",
      "  (bn4): BatchNorm2d(256, eps=1e-05, momentum=0.1, affine=True, track_running_stats=True)\n",
      "  (dropout1): Dropout(p=0.1, inplace=False)\n",
      "  (dropout2): Dropout(p=0.5, inplace=False)\n",
      "  (fc1): Linear(in_features=9216, out_features=4096, bias=True)\n",
      "  (fcOut): Linear(in_features=4096, out_features=1, bias=True)\n",
      "  (sigmoid): Sigmoid()\n",
      ")\n",
      "\n",
      "The model has 38,952,897 trainable parameters\n"
     ]
    }
   ],
   "source": [
    "#creating the original network and couting the paramenters of different networks\n",
    "device = torch.device('cuda:0' if torch.cuda.is_available() else 'cpu')\n",
    "siameseBaseLine = Net()\n",
    "siameseBaseLine = siameseBaseLine.to(device)\n",
    "\n",
    "def count_parameters(model):\n",
    "    temp = sum(p.numel() for p in model.parameters() if p.requires_grad)\n",
    "    print(f'The model architecture:\\n\\n', model)\n",
    "    print(f'\\nThe model has {temp:,} trainable parameters')\n",
    "    \n",
    "count_parameters(siameseBaseLine)"
   ]
  },
  {
   "cell_type": "code",
   "execution_count": null,
   "metadata": {
    "colab": {},
    "colab_type": "code",
    "id": "iYRNmrYlo8QC"
   },
   "outputs": [],
   "source": [
    "# saving and loading checkpoint mechanisms\n",
    "def save_checkpoint(save_path, model, optimizer, val_loss):\n",
    "    if save_path==None:\n",
    "        return\n",
    "    save_path = save_path \n",
    "    state_dict = {'model_state_dict': model.state_dict(),\n",
    "                  'optimizer_state_dict': optimizer.state_dict(),\n",
    "                  'val_loss': val_loss}\n",
    "\n",
    "    torch.save(state_dict, save_path)\n",
    "\n",
    "    print(f'Model saved to ==> {save_path}')\n",
    "\n",
    "def load_checkpoint(model, optimizer):\n",
    "    save_path = f'siameseNet-batchnorm50.pt'\n",
    "    state_dict = torch.load(save_path)\n",
    "    model.load_state_dict(state_dict['model_state_dict'])\n",
    "    optimizer.load_state_dict(state_dict['optimizer_state_dict'])\n",
    "    val_loss = state_dict['val_loss']\n",
    "    print(f'Model loaded from <== {save_path}')\n",
    "    \n",
    "    return val_loss"
   ]
  },
  {
   "cell_type": "code",
   "execution_count": null,
   "metadata": {
    "colab": {},
    "colab_type": "code",
    "id": "N5378uY-o8QF"
   },
   "outputs": [],
   "source": [
    "# training and validation after every epoch\n",
    "def train(model, train_loader, val_loader, num_epochs, criterion, save_name):\n",
    "    best_val_loss = float(\"Inf\") \n",
    "    train_losses = []\n",
    "    val_losses = []\n",
    "    cur_step = 0\n",
    "    for epoch in range(num_epochs):\n",
    "        running_loss = 0.0\n",
    "        model.train()\n",
    "        print(\"Starting epoch \" + str(epoch+1))\n",
    "        for img1, img2, labels in train_loader:\n",
    "            \n",
    "            # Forward\n",
    "            img1 = img1.to(device)\n",
    "            img2 = img2.to(device)\n",
    "            labels = labels.to(device)\n",
    "            outputs = model(img1, img2)\n",
    "            loss = criterion(outputs, labels)\n",
    "            \n",
    "            # Backward and optimize\n",
    "            optimizer.zero_grad()\n",
    "            loss.backward()\n",
    "            optimizer.step()\n",
    "            running_loss += loss.item()\n",
    "\n",
    "        avg_train_loss = running_loss / len(train_loader)\n",
    "        train_losses.append(avg_train_loss)\n",
    "        \n",
    "        val_running_loss = 0.0\n",
    "        with torch.no_grad():\n",
    "            model.eval()\n",
    "            for img1, img2, labels in val_loader:\n",
    "                img1 = img1.to(device)\n",
    "                img2 = img2.to(device)\n",
    "                labels = labels.to(device)\n",
    "                outputs = model(img1, img2)\n",
    "                loss = criterion(outputs, labels)\n",
    "                val_running_loss += loss.item()\n",
    "        avg_val_loss = val_running_loss / len(val_loader)\n",
    "        val_losses.append(avg_val_loss)\n",
    "        \n",
    "        print('Epoch [{}/{}],Train Loss: {:.4f}, Valid Loss: {:.8f}'\n",
    "            .format(epoch+1, num_epochs, avg_train_loss, avg_val_loss))\n",
    "        if avg_val_loss < best_val_loss:\n",
    "            best_val_loss = avg_val_loss\n",
    "            save_checkpoint(save_name, model, optimizer, best_val_loss)\n",
    "    \n",
    "    print(\"Finished Training\")  \n",
    "    return train_losses, val_losses  \n",
    "\n",
    "# evaluation metrics\n",
    "def eval(model, test_loader):\n",
    "    with torch.no_grad():\n",
    "        model.eval()\n",
    "        correct = 0\n",
    "        print('Starting Iteration')\n",
    "        count = 0\n",
    "        for mainImg, imgSets, label in test_loader:\n",
    "            mainImg = mainImg.to(device)\n",
    "            predVal = 0\n",
    "            pred = -1\n",
    "            for i, testImg in enumerate(imgSets):\n",
    "                testImg = testImg.to(device)\n",
    "                output = model(mainImg, testImg)\n",
    "                if output > predVal:\n",
    "                    pred = i\n",
    "                    predVal = output\n",
    "            label = label.to(device)\n",
    "            if pred == label:\n",
    "                correct += 1\n",
    "            count += 1\n",
    "            if count % 20 == 0:\n",
    "                print(\"Current Count is: {}\".format(count))\n",
    "                print('Accuracy on n way: {}'.format(correct/count))\n",
    "\n"
   ]
  },
  {
   "cell_type": "code",
   "execution_count": null,
   "metadata": {
    "colab": {
     "base_uri": "https://localhost:8080/",
     "height": 1000
    },
    "colab_type": "code",
    "id": "F3OAaokOo8QH",
    "outputId": "3d425e7b-6fc4-4b58-e448-c25e03b37441"
   },
   "outputs": [
    {
     "name": "stdout",
     "output_type": "stream",
     "text": [
      "Starting epoch 1\n",
      "Epoch [1/50],Train Loss: 0.5549, Valid Loss: 0.48125232\n",
      "Model saved to ==> siameseNet-batchnorm50.pt\n",
      "Starting epoch 2\n",
      "Epoch [2/50],Train Loss: 0.4668, Valid Loss: 0.42635091\n",
      "Model saved to ==> siameseNet-batchnorm50.pt\n",
      "Starting epoch 3\n",
      "Epoch [3/50],Train Loss: 0.3985, Valid Loss: 0.36831688\n",
      "Model saved to ==> siameseNet-batchnorm50.pt\n",
      "Starting epoch 4\n",
      "Epoch [4/50],Train Loss: 0.3517, Valid Loss: 0.31845768\n",
      "Model saved to ==> siameseNet-batchnorm50.pt\n",
      "Starting epoch 5\n",
      "Epoch [5/50],Train Loss: 0.3155, Valid Loss: 0.29446547\n",
      "Model saved to ==> siameseNet-batchnorm50.pt\n",
      "Starting epoch 6\n",
      "Epoch [6/50],Train Loss: 0.2865, Valid Loss: 0.26804872\n",
      "Model saved to ==> siameseNet-batchnorm50.pt\n",
      "Starting epoch 7\n",
      "Epoch [7/50],Train Loss: 0.2638, Valid Loss: 0.26452624\n",
      "Model saved to ==> siameseNet-batchnorm50.pt\n",
      "Starting epoch 8\n",
      "Epoch [8/50],Train Loss: 0.2445, Valid Loss: 0.22926572\n",
      "Model saved to ==> siameseNet-batchnorm50.pt\n",
      "Starting epoch 9\n",
      "Epoch [9/50],Train Loss: 0.2301, Valid Loss: 0.21495715\n",
      "Model saved to ==> siameseNet-batchnorm50.pt\n",
      "Starting epoch 10\n",
      "Epoch [10/50],Train Loss: 0.2188, Valid Loss: 0.20144222\n",
      "Model saved to ==> siameseNet-batchnorm50.pt\n",
      "Starting epoch 11\n",
      "Epoch [11/50],Train Loss: 0.2051, Valid Loss: 0.17532073\n",
      "Model saved to ==> siameseNet-batchnorm50.pt\n",
      "Starting epoch 12\n",
      "Epoch [12/50],Train Loss: 0.1927, Valid Loss: 0.20000880\n",
      "Starting epoch 13\n",
      "Epoch [13/50],Train Loss: 0.1799, Valid Loss: 0.17294230\n",
      "Model saved to ==> siameseNet-batchnorm50.pt\n",
      "Starting epoch 14\n",
      "Epoch [14/50],Train Loss: 0.1794, Valid Loss: 0.17636639\n",
      "Starting epoch 15\n",
      "Epoch [15/50],Train Loss: 0.1598, Valid Loss: 0.15905395\n",
      "Model saved to ==> siameseNet-batchnorm50.pt\n",
      "Starting epoch 16\n",
      "Epoch [16/50],Train Loss: 0.1693, Valid Loss: 0.15481405\n",
      "Model saved to ==> siameseNet-batchnorm50.pt\n",
      "Starting epoch 17\n",
      "Epoch [17/50],Train Loss: 0.1597, Valid Loss: 0.15298908\n",
      "Model saved to ==> siameseNet-batchnorm50.pt\n",
      "Starting epoch 18\n",
      "Epoch [18/50],Train Loss: 0.1537, Valid Loss: 0.14777905\n",
      "Model saved to ==> siameseNet-batchnorm50.pt\n",
      "Starting epoch 19\n",
      "Epoch [19/50],Train Loss: 0.1467, Valid Loss: 0.14337746\n",
      "Model saved to ==> siameseNet-batchnorm50.pt\n",
      "Starting epoch 20\n",
      "Epoch [20/50],Train Loss: 0.1467, Valid Loss: 0.13917542\n",
      "Model saved to ==> siameseNet-batchnorm50.pt\n",
      "Starting epoch 21\n",
      "Epoch [21/50],Train Loss: 0.1438, Valid Loss: 0.13170802\n",
      "Model saved to ==> siameseNet-batchnorm50.pt\n",
      "Starting epoch 22\n",
      "Epoch [22/50],Train Loss: 0.1338, Valid Loss: 0.12031045\n",
      "Model saved to ==> siameseNet-batchnorm50.pt\n",
      "Starting epoch 23\n",
      "Epoch [23/50],Train Loss: 0.1390, Valid Loss: 0.13239871\n",
      "Starting epoch 24\n",
      "Epoch [24/50],Train Loss: 0.1296, Valid Loss: 0.11092869\n",
      "Model saved to ==> siameseNet-batchnorm50.pt\n",
      "Starting epoch 25\n",
      "Epoch [25/50],Train Loss: 0.1261, Valid Loss: 0.11166797\n",
      "Starting epoch 26\n",
      "Epoch [26/50],Train Loss: 0.1181, Valid Loss: 0.10092104\n",
      "Model saved to ==> siameseNet-batchnorm50.pt\n",
      "Starting epoch 27\n",
      "Epoch [27/50],Train Loss: 0.1259, Valid Loss: 0.10556258\n",
      "Starting epoch 28\n",
      "Epoch [28/50],Train Loss: 0.1167, Valid Loss: 0.10028543\n",
      "Model saved to ==> siameseNet-batchnorm50.pt\n",
      "Starting epoch 29\n",
      "Epoch [29/50],Train Loss: 0.1123, Valid Loss: 0.11273196\n",
      "Starting epoch 30\n",
      "Epoch [30/50],Train Loss: 0.1139, Valid Loss: 0.10491389\n",
      "Starting epoch 31\n",
      "Epoch [31/50],Train Loss: 0.1149, Valid Loss: 0.10406823\n",
      "Starting epoch 32\n",
      "Epoch [32/50],Train Loss: 0.1087, Valid Loss: 0.09366502\n",
      "Model saved to ==> siameseNet-batchnorm50.pt\n",
      "Starting epoch 33\n",
      "Epoch [33/50],Train Loss: 0.1019, Valid Loss: 0.10917530\n",
      "Starting epoch 34\n",
      "Epoch [34/50],Train Loss: 0.1080, Valid Loss: 0.08813719\n",
      "Model saved to ==> siameseNet-batchnorm50.pt\n",
      "Starting epoch 35\n",
      "Epoch [35/50],Train Loss: 0.1078, Valid Loss: 0.09548034\n",
      "Starting epoch 36\n",
      "Epoch [36/50],Train Loss: 0.0998, Valid Loss: 0.08422431\n",
      "Model saved to ==> siameseNet-batchnorm50.pt\n",
      "Starting epoch 37\n",
      "Epoch [37/50],Train Loss: 0.1032, Valid Loss: 0.08835751\n",
      "Starting epoch 38\n",
      "Epoch [38/50],Train Loss: 0.0966, Valid Loss: 0.09418908\n",
      "Starting epoch 39\n",
      "Epoch [39/50],Train Loss: 0.0891, Valid Loss: 0.10183584\n",
      "Starting epoch 40\n",
      "Epoch [40/50],Train Loss: 0.0931, Valid Loss: 0.09121724\n",
      "Starting epoch 41\n",
      "Epoch [41/50],Train Loss: 0.0959, Valid Loss: 0.08425437\n",
      "Starting epoch 42\n",
      "Epoch [42/50],Train Loss: 0.1022, Valid Loss: 0.08497557\n",
      "Starting epoch 43\n",
      "Epoch [43/50],Train Loss: 0.0921, Valid Loss: 0.08601763\n",
      "Starting epoch 44\n",
      "Epoch [44/50],Train Loss: 0.0909, Valid Loss: 0.07139659\n",
      "Model saved to ==> siameseNet-batchnorm50.pt\n",
      "Starting epoch 45\n",
      "Epoch [45/50],Train Loss: 0.0877, Valid Loss: 0.07492927\n",
      "Starting epoch 46\n",
      "Epoch [46/50],Train Loss: 0.0801, Valid Loss: 0.06767370\n",
      "Model saved to ==> siameseNet-batchnorm50.pt\n",
      "Starting epoch 47\n",
      "Epoch [47/50],Train Loss: 0.0835, Valid Loss: 0.08603002\n",
      "Starting epoch 48\n",
      "Epoch [48/50],Train Loss: 0.0893, Valid Loss: 0.08032930\n",
      "Starting epoch 49\n",
      "Epoch [49/50],Train Loss: 0.0803, Valid Loss: 0.06619011\n",
      "Model saved to ==> siameseNet-batchnorm50.pt\n",
      "Starting epoch 50\n",
      "Epoch [50/50],Train Loss: 0.0831, Valid Loss: 0.06636149\n",
      "Finished Training\n"
     ]
    }
   ],
   "source": [
    "# actual training\n",
    "import torch.optim as optim\n",
    "\n",
    "optimizer = optim.Adam(siameseBaseLine.parameters(), lr = 0.0006)\n",
    "num_epochs = 50\n",
    "criterion = nn.BCEWithLogitsLoss()\n",
    "save_path = 'siameseNet-batchnorm50.pt'\n",
    "train_losses, val_losses = train(siameseBaseLine, train_loader, val_loader, num_epochs, criterion, save_path)"
   ]
  },
  {
   "cell_type": "code",
   "execution_count": null,
   "metadata": {
    "colab": {
     "base_uri": "https://localhost:8080/",
     "height": 138
    },
    "colab_type": "code",
    "id": "gCyOZi-NQKPx",
    "outputId": "99335258-7957-4816-81a7-b8367c829369"
   },
   "outputs": [
    {
     "name": "stdout",
     "output_type": "stream",
     "text": [
      "Model loaded from <== siameseNet-batchnorm50.pt\n",
      "0.06619010965561553\n",
      "Starting Iteration\n",
      "Current Count is: 20\n",
      "Accuracy on n way: 0.75\n",
      "Current Count is: 40\n",
      "Accuracy on n way: 0.8\n"
     ]
    }
   ],
   "source": [
    "# Evaluation on previously saved models\n",
    "import torch.optim as optim\n",
    "load_model = Net().to(device)\n",
    "load_optimizer = optim.Adam(load_model.parameters(), lr=0.0006)\n",
    "\n",
    "\n",
    "num_epochs = 10\n",
    "eval_every = 1000\n",
    "total_step = len(train_loader)*num_epochs\n",
    "best_val_loss = load_checkpoint(load_model, load_optimizer)\n",
    "\n",
    "print(best_val_loss)\n",
    "eval(load_model, test_loader)"
   ]
  },
  {
   "cell_type": "code",
   "execution_count": null,
   "metadata": {
    "colab": {
     "base_uri": "https://localhost:8080/",
     "height": 279
    },
    "colab_type": "code",
    "id": "jT_RTDmso8QI",
    "outputId": "4304ca8a-7590-43af-a1af-0ebfdc9ec93f"
   },
   "outputs": [
    {
     "data": {
      "image/png": "[encoded data removed]",
      "text/plain": [
       "<Figure size 432x288 with 1 Axes>"
      ]
     },
     "metadata": {
      "needs_background": "light",
      "tags": []
     },
     "output_type": "display_data"
    }
   ],
   "source": [
    "#plotting of training and validation loss\n",
    "plt.xlabel('epoch')\n",
    "plt.ylabel('loss')\n",
    "plt.plot(train_losses, label='Train Loss')\n",
    "plt.plot(val_losses, label=\"Validation Loss\")\n",
    "plt.legend(bbox_to_anchor=(1.05, 1.0), loc='upper left')\n",
    "plt.show()\n"
   ]
  },
  {
   "cell_type": "code",
   "execution_count": null,
   "metadata": {
    "colab": {},
    "colab_type": "code",
    "id": "pXDsPIkvIpQh"
   },
   "outputs": [],
   "source": [
    "\"\"\"How to use the evaluation n way:\n",
    "\n",
    "# Set the parameters\n",
    "testSize = 5000 # how big you want your test size to be\n",
    "numWay = 4 # how many ways metric\n",
    "\n",
    "# Create the dataset for it and put it into dataloader\n",
    "test_set = NWayOneShotEvalSet(categories, root_dir, testSize, numWay, transformations) \n",
    "test_loader = torch.utils.data.DataLoader(test_set, batch_size = 1, num_workers = 2)\n",
    "\n",
    "\n",
    "# Load the models (the name of the loaded model can be changed in the load_checkpoint() function)\n",
    "load_model = Net().to(device)\n",
    "load_optimizer = optim.Adam(load_model.parameters(), lr=0.0006)\n",
    "\n",
    "\n",
    "num_epochs = 10\n",
    "eval_every = 1000\n",
    "total_step = len(train_loader)*num_epochs\n",
    "best_val_loss = load_checkpoint(load_model, load_optimizer)\n",
    "\n",
    "print(best_val_loss)\n",
    "\n",
    "# Evaluate from the test loader \n",
    "\n",
    "eval(load_model, test_loader)\n",
    "\n",
    "\"\"\""
   ]
  },
  {
   "cell_type": "code",
   "execution_count": null,
   "metadata": {
    "colab": {},
    "colab_type": "code",
    "id": "9xPtPhnTkplG"
   },
   "outputs": [],
   "source": []
  }
 ],
 "metadata": {
  "accelerator": "GPU",
  "colab": {
   "collapsed_sections": [],
   "machine_shape": "hm",
   "name": "siamese.ipynb",
   "provenance": []
  },
  "kernelspec": {
   "display_name": "Python 3",
   "language": "python",
   "name": "python3"
  },
  "language_info": {
   "codemirror_mode": {
    "name": "ipython",
    "version": 3
   },
   "file_extension": ".py",
   "mimetype": "text/x-python",
   "name": "python",
   "nbconvert_exporter": "python",
   "pygments_lexer": "ipython3",
   "version": "3.7.4"
  }
 },
 "nbformat": 4,
 "nbformat_minor": 4
}
